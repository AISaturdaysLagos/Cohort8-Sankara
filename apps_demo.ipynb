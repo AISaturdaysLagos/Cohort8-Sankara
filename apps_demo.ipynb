{
  "cells": [
    {
      "cell_type": "code",
      "execution_count": null,
      "metadata": {
        "id": "aAqBwGpl7D0l"
      },
      "outputs": [],
      "source": [
        "#Mount drive\n",
        "cd /content/drive/MyDrive/Sankara_8"
      ]
    },
    {
      "cell_type": "code",
      "execution_count": null,
      "metadata": {
        "id": "5nWUW0y172La"
      },
      "outputs": [],
      "source": [
        "#install required libraries\n",
        "!pip install -r requirements.txt"
      ]
    },
    {
      "cell_type": "code",
      "execution_count": null,
      "metadata": {
        "id": "YgN9WFnT7oaX"
      },
      "outputs": [],
      "source": [
        "#test app\n",
        "!python app.py"
      ]
    }
  ],
  "metadata": {
    "colab": {
      "provenance": []
    },
    "kernelspec": {
      "display_name": "Python 3",
      "name": "python3"
    },
    "language_info": {
      "name": "python"
    }
  },
  "nbformat": 4,
  "nbformat_minor": 0
}